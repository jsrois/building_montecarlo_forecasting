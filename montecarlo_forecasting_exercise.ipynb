{
 "cells": [
  {
   "cell_type": "markdown",
   "metadata": {},
   "source": [
    "### Setup\n",
    "###### This is just imports and configuration\n"
   ]
  },
  {
   "cell_type": "code",
   "execution_count": null,
   "metadata": {},
   "outputs": [],
   "source": [
    "import pandas as pd\n",
    "from matplotlib import pyplot as plt\n",
    "import matplotlib.ticker as ticker\n",
    "import seaborn as sns\n",
    "from pandas.plotting import register_matplotlib_converters\n",
    "register_matplotlib_converters()\n",
    "%matplotlib inline\n",
    "plt.style.use('fivethirtyeight')\n",
    "plt.rcParams['axes.labelsize'] = 14\n",
    "plt.rcParams['lines.linewidth'] = 1.5\n",
    "darkgrey = '#3A3A3A'\n",
    "lightgrey = '#414141'\n",
    "barblue = plt.rcParams['axes.prop_cycle'].by_key()['color'][0]\n",
    "plt.rcParams['text.color'] = darkgrey\n",
    "plt.rcParams['axes.labelcolor'] = darkgrey\n",
    "plt.rcParams['xtick.color'] = lightgrey\n",
    "plt.rcParams['ytick.color'] = lightgrey"
   ]
  },
  {
   "cell_type": "markdown",
   "metadata": {},
   "source": [
    "### Example problem \n",
    "\n",
    "Your team is at the beginning of a new cycle/quarter, and the PO is happy with the inception we just ran together. We found clear goals for the next months and defined 3 clear \n",
    "**initiatives**. You even went further and did some User Story mapping that allowed you to break down the different initiatives into stories:\n",
    "\n",
    "- **Initiative #1**: 6 user stories\n",
    "- **Initiative #2**: 8-10 user stories\n",
    "- **Initiative #3**: 7 user stories\n",
    "\n",
    "\n",
    "Now, the PO wants you to *estimate* how long will it take you to have this in production. \n",
    "\n",
    "**What would you tell your PO?**"
   ]
  },
  {
   "cell_type": "markdown",
   "metadata": {},
   "source": [
    "# Using the Montecarlo method to produce a forecasting based on the past data"
   ]
  },
  {
   "cell_type": "markdown",
   "metadata": {},
   "source": [
    "## 1. Reading and analyzing the data"
   ]
  },
  {
   "cell_type": "markdown",
   "metadata": {},
   "source": [
    "Using pandas `read_csv` function, read the JIRA data into a DataFrame. Take the `Issue key`, `Resolved` and `Issue Type` columns from the data and ignore the rest.\n",
    "\n",
    "Display the result."
   ]
  },
  {
   "cell_type": "code",
   "execution_count": null,
   "metadata": {},
   "outputs": [],
   "source": [
    "sample_stories = ??? # read from file\n",
    "# Ignore the time, use only dates\n",
    "sample_stories['Resolved'] = pd.to_datetime(sample_stories['Resolved'],format='%d/%b/%y %I:%M %p').dt.normalize()"
   ]
  },
  {
   "cell_type": "markdown",
   "metadata": {},
   "source": [
    "#### Calculating Throughput\n",
    "The number of items delivered each day is called (daily) *troughput*. Transform story data into a measure of the historical throughput of the team by calculating how many items were delivered on each date.\n",
    "\n",
    "- You can use the `crosstab` function to \"pivot\" the table aggregating stories based on the date they were solved\n"
   ]
  },
  {
   "cell_type": "code",
   "execution_count": null,
   "metadata": {},
   "outputs": [],
   "source": [
    "throughput = ??? # represent the throughput per date for every type of ticket\n",
    "\n",
    "throughput['Throughput'] = ??? # aggregate the columns you want to use in your analysis (e.g. only stories)"
   ]
  },
  {
   "cell_type": "markdown",
   "metadata": {},
   "source": [
    "- With the `reindex` function, you can create a complete table (for all the dates), filling each date with the corresponding throughput (or 0 otherwise)\n"
   ]
  },
  {
   "cell_type": "code",
   "execution_count": null,
   "metadata": {},
   "outputs": [],
   "source": [
    "date_range = pd.date_range(start=sample_stories.Resolved.min(),end=sample_stories.Resolved.max())\n",
    "throughput = throughput.reindex(date_range).fillna(0).astype(int).rename_axis('Date')"
   ]
  },
  {
   "cell_type": "markdown",
   "metadata": {},
   "source": [
    "Now that we have calculated our throughput, let's take a look at it. \n",
    "\n",
    "- Use the `plot` method to generate some plotting axes (you can add a title, x_label, y_label and other stuff to the axes too!)."
   ]
  },
  {
   "cell_type": "code",
   "execution_count": null,
   "metadata": {},
   "outputs": [],
   "source": [
    "ax = throughput.plot(y='Throughput', linewidth=2.5, figsize=(14, 3), legend=None)\n",
    "ax.set_title(\"Throughput per Day (stories)\", loc='left', fontdict={\n",
    "             'fontsize': 18, 'fontweight': 'semibold'})\n",
    "ax.set_xlabel('')\n",
    "ax.set_ylabel('Items Completed')\n",
    "ax.axhline(y=0, color=lightgrey, alpha=.5);"
   ]
  },
  {
   "cell_type": "markdown",
   "metadata": {},
   "source": [
    "- Using the `resample` method, calculate the weekly throughput of the team and plot it."
   ]
  },
  {
   "cell_type": "code",
   "execution_count": null,
   "metadata": {},
   "outputs": [],
   "source": [
    "throughput_per_week = ??? # resample to calculate the output per week\n",
    "# plot the result again"
   ]
  },
  {
   "cell_type": "markdown",
   "metadata": {},
   "source": [
    "## 2. Sampling the past data to produce simulations"
   ]
  },
  {
   "cell_type": "markdown",
   "metadata": {},
   "source": [
    "The Montecarlo method is based on \"Sample-Importance resampling\": we take some data from the past and sample it, with a sampling distibution that follows that of the data.\n",
    "\n",
    "In other words: you take the throughput data of the last `N` days, and pick from it randomly. The probability of getting a particular throughput is given by the number of times this has happened in the past."
   ]
  },
  {
   "cell_type": "markdown",
   "metadata": {},
   "source": [
    "To **sample** or past data, we'll first select the last 100 days of data.\n",
    "\n",
    "Using the `sample` method, we can take a random sample out of a pandas `Series` objectEach of the columns of a `DataFrame` is a `Series`. "
   ]
  },
  {
   "cell_type": "code",
   "execution_count": null,
   "metadata": {},
   "outputs": [],
   "source": [
    "LAST_DAYS = 100\n",
    "SIMULATION_ITEMS = 15\n",
    "START_DATE = pd.to_datetime('2019-07-22')\n",
    "SIMULATIONS = 1000"
   ]
  },
  {
   "cell_type": "markdown",
   "metadata": {},
   "source": [
    "What does this code do?"
   ]
  },
  {
   "cell_type": "code",
   "execution_count": null,
   "metadata": {},
   "outputs": [],
   "source": [
    "def simulate_wwibd(data, stories_to_deliver, idx, total_simulations):\n",
    "    def print_progress(i, N):\n",
    "        if (i+1) == N:\n",
    "            print(\"\\r%d simulations run.\\n\" % N)\n",
    "        else:\n",
    "            print(\"\\rRunning simulation %d of %d\" % (i + 1, N), end='')\n",
    "    \n",
    "    days = 0\n",
    "    total = 0\n",
    "    while total <= stories_to_deliver:\n",
    "        total += data.sample(n=1).iloc[0].Throughput\n",
    "        days += 1\n",
    "    completion_date = START_DATE + pd.Timedelta(days, unit='d')\n",
    "    print_progress(idx, total_simulations)\n",
    "    return completion_date"
   ]
  },
  {
   "cell_type": "code",
   "execution_count": null,
   "metadata": {},
   "outputs": [],
   "source": [
    "dataset = ???\n",
    "\n",
    "samples = ??? # simulate! \n",
    "samples = pd.DataFrame(samples, columns=['Date'])\n",
    "distribution = samples.groupby(['Date']).size().reset_index(name='Frequency')"
   ]
  },
  {
   "cell_type": "markdown",
   "metadata": {},
   "source": [
    "## 3. Interpreting the result"
   ]
  },
  {
   "cell_type": "code",
   "execution_count": null,
   "metadata": {},
   "outputs": [],
   "source": [
    "plt.figure(figsize=(15, 3))\n",
    "ax = sns.barplot(x='Date', y='Frequency', data=distribution, color=barblue)\n",
    "ax.set_title(f\"Distribution of Monte Carlo Simulation 'When' ({SIMULATIONS} Runs)\", loc='left',\n",
    "             fontdict={'size': 18, 'weight': 'semibold'})\n",
    "ax.set_xlabel(f\"Completion Date for {SIMULATION_ITEMS} Items\")\n",
    "ax.set_ylabel('Frequency')\n",
    "unique_dates = sorted(list(distribution['Date'].drop_duplicates()))\n",
    "date_ticks = range(0, len(unique_dates), 5)\n",
    "ax.set_xticks(date_ticks)\n",
    "ax.set_xticklabels([unique_dates[i].strftime('%d %b')\n",
    "                    for i in date_ticks], rotation=45)\n",
    "ax.axhline(y=SIMULATIONS*0.001, color=darkgrey, alpha=.5);"
   ]
  },
  {
   "cell_type": "code",
   "execution_count": null,
   "metadata": {},
   "outputs": [],
   "source": [
    "distribution = distribution.sort_index(ascending=False)\n",
    "distribution['Probability'] = 100 * \\\n",
    "    distribution.Frequency.cumsum()/distribution.Frequency.sum()\n",
    "plt.figure(figsize=(14, 5))\n",
    "ax = sns.barplot(x='Date', y='Probability', data=distribution, color=barblue)\n",
    "ax.text(x=-1.4, y=118,\n",
    "        s=f\"Probabilities of Completion Dates for {SIMULATION_ITEMS} Items\", fontsize=18, fontweight='semibold')\n",
    "ax.text(x=-1.4, y=110,\n",
    "        s=f\"Based on a Monte Carlo Simulations ({SIMULATIONS} Runs) with data of last {LAST_DAYS} days\", fontsize=16)\n",
    "ax.set_ylabel('')\n",
    "ax.set_xlabel('')\n",
    "ax.axhline(y=0.5, color=darkgrey, alpha=.5)\n",
    "ax.axhline(y=70, color=darkgrey, linestyle='--')\n",
    "ax.axhline(y=85, color=darkgrey, linestyle='--')\n",
    "ax.axhline(y=95, color=darkgrey, linestyle='--')\n",
    "label_xpos = distribution['Date'].max() - pd.Timedelta(30, unit='d')\n",
    "ax.text(y=70, x=80, s=f\"70% ({samples.Date.quantile(0.3).strftime('%Y-%m-%d')})\",\n",
    "        va='center', ha='center', backgroundcolor='#F0F0F0')\n",
    "ax.text(y=85, x=80, s=f\"85% ({samples.Date.quantile(0.15).strftime('%Y-%m-%d')})\",\n",
    "        va='center', ha='center', backgroundcolor='#F0F0F0')\n",
    "ax.text(y=95, x=80, s=f\"95% ({samples.Date.quantile(0.05).strftime('%Y-%m-%d')})\",\n",
    "        va='center', ha='center', backgroundcolor='#F0F0F0')\n",
    "ax.set_yticklabels(labels=['0', '20', '40', '60', '80', '100%'])\n",
    "\n",
    "unique_dates = sorted(list(distribution['Date'].drop_duplicates()))\n",
    "date_ticks = range(0, len(unique_dates), 5)\n",
    "ax.set_xticks(date_ticks)\n",
    "ax.set_xticklabels([unique_dates[i].strftime('%d %b')\n",
    "                    for i in date_ticks], rotation=45);"
   ]
  },
  {
   "cell_type": "markdown",
   "metadata": {},
   "source": [
    "# Simulation: When will it be done?"
   ]
  },
  {
   "cell_type": "code",
   "execution_count": null,
   "metadata": {},
   "outputs": [],
   "source": [
    "### SETTINGS ####\n",
    "LAST_DAYS = 100\n",
    "SIMULATION_DAYS = 14\n",
    "SIMULATIONS = 10000\n",
    "###\n",
    "\n",
    "dataset = throughput[['Throughput']].tail(LAST_DAYS).reset_index(drop=True)\n",
    "samples = [dataset.sample(n=SIMULATION_DAYS, replace=True).sum(\n",
    ").Throughput for i in range(SIMULATIONS)]"
   ]
  },
  {
   "cell_type": "code",
   "execution_count": null,
   "metadata": {},
   "outputs": [],
   "source": [
    "samples = pd.DataFrame(samples, columns=['Items'])"
   ]
  },
  {
   "cell_type": "code",
   "execution_count": null,
   "metadata": {},
   "outputs": [],
   "source": [
    "distribution = samples.groupby(['Items']).size().reset_index(name='Frequency')\n",
    "plt.figure(figsize=(14, 3))\n",
    "ax = sns.barplot(x='Items', y='Frequency', data=distribution, color=barblue)\n",
    "ax.set_title(f\"Distribution of Monte Carlo Simulation 'How Many' ({SIMULATIONS} Runs)\", loc='left',\n",
    "             fontdict={'size': 18, 'weight': 'semibold'})\n",
    "ax.set_xlabel(f\"Total Items Completed in {SIMULATION_DAYS} Days\")\n",
    "ax.set_ylabel('Frequency')\n",
    "ax.axhline(y=SIMULATIONS*0.001, color=darkgrey, alpha=.5);"
   ]
  },
  {
   "cell_type": "code",
   "execution_count": null,
   "metadata": {},
   "outputs": [],
   "source": [
    "distribution = distribution.sort_index(ascending=False)\n",
    "distribution['Probability'] = 100 * \\\n",
    "    distribution.Frequency.cumsum()/distribution.Frequency.sum()\n",
    "plt.figure(figsize=(14, 5))\n",
    "ax = sns.barplot(x='Items', y='Probability', data=distribution, color=barblue)\n",
    "ax.text(x=-1.4, y=118,\n",
    "        s=f\"Probabilities of Completing a Scope in {SIMULATION_DAYS} Days\", fontsize=18, fontweight='semibold')\n",
    "ax.text(x=-1.4, y=110,\n",
    "        s=f\"Based on a Monte Carlo Simulations ({SIMULATIONS} Runs) with data of last {LAST_DAYS} days\", fontsize=16)\n",
    "ax.set_ylabel('')\n",
    "ax.set_xlabel('Total Items Completed')\n",
    "ax.axhline(y=0.5, color=darkgrey, alpha=.5)\n",
    "ax.axhline(y=70, color=darkgrey, linestyle='--')\n",
    "ax.axhline(y=85, color=darkgrey, linestyle='--')\n",
    "ax.axhline(y=95, color=darkgrey, linestyle='--')\n",
    "label_xpos = distribution['Items'].max()-2\n",
    "ax.text(y=70, x=label_xpos, s=f'70%% (%d+ Items)' % samples.Items.quantile(0.3),\n",
    "        va='center', ha='center', backgroundcolor='#F0F0F0')\n",
    "ax.text(y=85, x=label_xpos, s=f'85%% (%d+ Items)' % samples.Items.quantile(0.15),\n",
    "        va='center', ha='center', backgroundcolor='#F0F0F0')\n",
    "ax.text(y=95, x=label_xpos, s=f'95%% (%d+ Items)' % samples.Items.quantile(0.05),\n",
    "        va='center', ha='center', backgroundcolor='#F0F0F0')\n",
    "ax.set_yticklabels(labels=['0', '20', '40', '60', '80', '100%']);"
   ]
  },
  {
   "cell_type": "code",
   "execution_count": null,
   "metadata": {},
   "outputs": [],
   "source": []
  }
 ],
 "metadata": {
  "kernelspec": {
   "display_name": "Python 3",
   "language": "python",
   "name": "python3"
  },
  "language_info": {
   "codemirror_mode": {
    "name": "ipython",
    "version": 3
   },
   "file_extension": ".py",
   "mimetype": "text/x-python",
   "name": "python",
   "nbconvert_exporter": "python",
   "pygments_lexer": "ipython3",
   "version": "3.7.3"
  }
 },
 "nbformat": 4,
 "nbformat_minor": 4
}
